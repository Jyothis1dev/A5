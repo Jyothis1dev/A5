{
 "cells": [
  {
   "cell_type": "code",
   "execution_count": 6,
   "id": "19814de9",
   "metadata": {},
   "outputs": [
    {
     "name": "stdout",
     "output_type": "stream",
     "text": [
      "Requirement already satisfied: geopandas in c:\\users\\jyoth\\anaconda3\\lib\\site-packages (1.0.1)\n",
      "Requirement already satisfied: pandas in c:\\users\\jyoth\\anaconda3\\lib\\site-packages (2.1.4)\n",
      "Requirement already satisfied: numpy in c:\\users\\jyoth\\anaconda3\\lib\\site-packages (1.26.4)\n",
      "Requirement already satisfied: matplotlib in c:\\users\\jyoth\\anaconda3\\lib\\site-packages (3.8.0)\n",
      "Requirement already satisfied: seaborn in c:\\users\\jyoth\\anaconda3\\lib\\site-packages (0.12.2)\n",
      "Requirement already satisfied: pyogrio>=0.7.2 in c:\\users\\jyoth\\anaconda3\\lib\\site-packages (from geopandas) (0.9.0)\n",
      "Requirement already satisfied: packaging in c:\\users\\jyoth\\anaconda3\\lib\\site-packages (from geopandas) (23.1)\n",
      "Requirement already satisfied: pyproj>=3.3.0 in c:\\users\\jyoth\\anaconda3\\lib\\site-packages (from geopandas) (3.6.1)\n",
      "Requirement already satisfied: shapely>=2.0.0 in c:\\users\\jyoth\\anaconda3\\lib\\site-packages (from geopandas) (2.0.5)\n",
      "Requirement already satisfied: python-dateutil>=2.8.2 in c:\\users\\jyoth\\anaconda3\\lib\\site-packages (from pandas) (2.8.2)\n",
      "Requirement already satisfied: pytz>=2020.1 in c:\\users\\jyoth\\anaconda3\\lib\\site-packages (from pandas) (2023.3.post1)\n",
      "Requirement already satisfied: tzdata>=2022.1 in c:\\users\\jyoth\\anaconda3\\lib\\site-packages (from pandas) (2023.3)\n",
      "Requirement already satisfied: contourpy>=1.0.1 in c:\\users\\jyoth\\anaconda3\\lib\\site-packages (from matplotlib) (1.2.0)\n",
      "Requirement already satisfied: cycler>=0.10 in c:\\users\\jyoth\\anaconda3\\lib\\site-packages (from matplotlib) (0.11.0)\n",
      "Requirement already satisfied: fonttools>=4.22.0 in c:\\users\\jyoth\\anaconda3\\lib\\site-packages (from matplotlib) (4.25.0)\n",
      "Requirement already satisfied: kiwisolver>=1.0.1 in c:\\users\\jyoth\\anaconda3\\lib\\site-packages (from matplotlib) (1.4.4)\n",
      "Requirement already satisfied: pillow>=6.2.0 in c:\\users\\jyoth\\anaconda3\\lib\\site-packages (from matplotlib) (10.2.0)\n",
      "Requirement already satisfied: pyparsing>=2.3.1 in c:\\users\\jyoth\\anaconda3\\lib\\site-packages (from matplotlib) (3.0.9)\n",
      "Requirement already satisfied: certifi in c:\\users\\jyoth\\anaconda3\\lib\\site-packages (from pyogrio>=0.7.2->geopandas) (2024.2.2)\n",
      "Requirement already satisfied: six>=1.5 in c:\\users\\jyoth\\anaconda3\\lib\\site-packages (from python-dateutil>=2.8.2->pandas) (1.16.0)\n"
     ]
    }
   ],
   "source": [
    "# Import necessary libraries\n",
    "!pip install geopandas pandas numpy matplotlib seaborn\n",
    "import os\n",
    "import pandas as pd\n",
    "import numpy as np\n",
    "import matplotlib.pyplot as plt\n",
    "import seaborn as sns\n",
    "import geopandas as gpd"
   ]
  },
  {
   "cell_type": "code",
   "execution_count": 7,
   "id": "9cea3784",
   "metadata": {},
   "outputs": [
    {
     "name": "stdout",
     "output_type": "stream",
     "text": [
      "D:\\Assignments_SCMA632\n"
     ]
    },
    {
     "name": "stderr",
     "output_type": "stream",
     "text": [
      "C:\\Users\\jyoth\\AppData\\Local\\Temp\\ipykernel_6908\\617625527.py:6: DtypeWarning: Columns (1) have mixed types. Specify dtype option on import or set low_memory=False.\n",
      "  data = pd.read_csv(\"NSSO68.csv\")\n"
     ]
    }
   ],
   "source": [
    "# Set the working directory and verify it\n",
    "os.chdir(\"D:\\\\Assignments_SCMA632\")\n",
    "print(os.getcwd())\n",
    "\n",
    "# Reading the file into Python\n",
    "data = pd.read_csv(\"NSSO68.csv\")"
   ]
  },
  {
   "cell_type": "code",
   "execution_count": 8,
   "id": "71a23caa",
   "metadata": {},
   "outputs": [
    {
     "name": "stdout",
     "output_type": "stream",
     "text": [
      "Dataset Information:\n",
      "Index(['slno', 'grp', 'Round_Centre', 'FSU_number', 'Round', 'Schedule_Number',\n",
      "       'Sample', 'Sector', 'state', 'State_Region',\n",
      "       ...\n",
      "       'pickle_v', 'sauce_jam_v', 'Othrprocessed_v', 'Beveragestotal_v',\n",
      "       'foodtotal_v', 'foodtotal_q', 'state_1', 'Region', 'fruits_df_tt_v',\n",
      "       'fv_tot'],\n",
      "      dtype='object', length=384)\n",
      "        slno                                 grp  Round_Centre  FSU_number  \\\n",
      "16453  16454  44399999999999999644387445309440.0             1       44419   \n",
      "16454  16455  44399999999999999644387445309440.0             1       44419   \n",
      "16455  16456  44399999999999999644387445309440.0             1       44419   \n",
      "16456  16457  44399999999999999644387445309440.0             1       44419   \n",
      "16457  16458  44399999999999999644387445309440.0             1       44419   \n",
      "\n",
      "       Round  Schedule_Number  Sample  Sector  state  State_Region  ...  \\\n",
      "16453     68               10       1       2     14           142  ...   \n",
      "16454     68               10       1       2     14           142  ...   \n",
      "16455     68               10       1       2     14           142  ...   \n",
      "16456     68               10       1       2     14           142  ...   \n",
      "16457     68               10       1       2     14           142  ...   \n",
      "\n",
      "       pickle_v  sauce_jam_v  Othrprocessed_v  Beveragestotal_v  foodtotal_v  \\\n",
      "16453       0.0          0.0              0.0               0.0   483.772500   \n",
      "16454       0.0          0.0              0.0               0.0   525.020000   \n",
      "16455       0.0          0.0              0.0               0.0   378.350000   \n",
      "16456       0.0          0.0              0.0               0.0   362.515000   \n",
      "16457       0.0          0.0              0.0               0.0   360.015833   \n",
      "\n",
      "       foodtotal_q  state_1  Region  fruits_df_tt_v     fv_tot  \n",
      "16453    16.687750    MANPR       2            37.5  87.500000  \n",
      "16454    19.600145    MANPR       2            30.0  74.000000  \n",
      "16455    16.250121    MANPR       2             0.0  35.833333  \n",
      "16456    16.333450    MANPR       2             0.0  40.000000  \n",
      "16457    16.333450    MANPR       2             0.0  39.166667  \n",
      "\n",
      "[5 rows x 384 columns]\n",
      "(2560, 384)\n"
     ]
    }
   ],
   "source": [
    "# a) Plotting a histogram and a barplot of the data to indicate the consumption district-wise for West Bengal\n",
    "\n",
    "# Filtering for WB\n",
    "df = data[data['state_1'] == \"MANPR\"]\n",
    "\n",
    "# Display dataset info\n",
    "print(\"Dataset Information:\")\n",
    "print(df.columns)\n",
    "print(df.head())\n",
    "print(df.shape)"
   ]
  },
  {
   "cell_type": "code",
   "execution_count": 11,
   "id": "a329aadb",
   "metadata": {},
   "outputs": [
    {
     "name": "stdout",
     "output_type": "stream",
     "text": [
      "Missing Values in Subset:\n",
      "state_1                0\n",
      "District               0\n",
      "Region                 0\n",
      "Sector                 0\n",
      "State_Region           0\n",
      "Meals_At_Home          7\n",
      "ricepds_v              0\n",
      "Wheatpds_q             0\n",
      "chicken_q              0\n",
      "pulsep_q               0\n",
      "wheatos_q              0\n",
      "No_of_Meals_per_day    0\n",
      "dtype: int64\n",
      "Missing Values After Imputation:\n",
      "state_1                0\n",
      "District               0\n",
      "Region                 0\n",
      "Sector                 0\n",
      "State_Region           0\n",
      "Meals_At_Home          0\n",
      "ricepds_v              0\n",
      "Wheatpds_q             0\n",
      "chicken_q              0\n",
      "pulsep_q               0\n",
      "wheatos_q              0\n",
      "No_of_Meals_per_day    0\n",
      "dtype: int64\n"
     ]
    },
    {
     "name": "stderr",
     "output_type": "stream",
     "text": [
      "C:\\Users\\jyoth\\AppData\\Local\\Temp\\ipykernel_6908\\2808499258.py:9: SettingWithCopyWarning: \n",
      "A value is trying to be set on a copy of a slice from a DataFrame\n",
      "\n",
      "See the caveats in the documentation: https://pandas.pydata.org/pandas-docs/stable/user_guide/indexing.html#returning-a-view-versus-a-copy\n",
      "  MANPRnew['Meals_At_Home'].fillna(MANPRnew['Meals_At_Home'].mean(), inplace=True)\n"
     ]
    }
   ],
   "source": [
    "# Sub-setting the data\n",
    "MANPRnew = df[['state_1', 'District', 'Region', 'Sector', 'State_Region', 'Meals_At_Home', 'ricepds_v', 'Wheatpds_q', 'chicken_q', 'pulsep_q', 'wheatos_q', 'No_of_Meals_per_day']]\n",
    "\n",
    "# Check for missing values in the subset\n",
    "print(\"Missing Values in Subset:\")\n",
    "print(MANPRnew.isnull().sum())\n",
    "\n",
    "# Impute missing values with mean for specific columns\n",
    "MANPRnew['Meals_At_Home'].fillna(MANPRnew['Meals_At_Home'].mean(), inplace=True)\n",
    "\n",
    "# Check for missing values after imputation\n",
    "print(\"Missing Values After Imputation:\")\n",
    "print(MANPRnew.isnull().sum())"
   ]
  },
  {
   "cell_type": "code",
   "execution_count": 12,
   "id": "de85a67a",
   "metadata": {},
   "outputs": [],
   "source": [
    "# Function to remove outliers\n",
    "def remove_outliers(df, column_name):\n",
    "    Q1 = df[column_name].quantile(0.25)\n",
    "    Q3 = df[column_name].quantile(0.75)\n",
    "    IQR = Q3 - Q1\n",
    "    lower_threshold = Q1 - (1.5 * IQR)\n",
    "    upper_threshold = Q3 + (1.5 * IQR)\n",
    "    df = df[(df[column_name] >= lower_threshold) & (df[column_name] <= upper_threshold)]\n",
    "    return df"
   ]
  },
  {
   "cell_type": "code",
   "execution_count": 14,
   "id": "b9d1b8c5",
   "metadata": {},
   "outputs": [],
   "source": [
    "outlier_columns = ['ricepds_v', 'chicken_q']\n",
    "for col in outlier_columns:\n",
    "    MANPRnew = remove_outliers(MANPRnew, col)"
   ]
  },
  {
   "cell_type": "code",
   "execution_count": 15,
   "id": "f82886a6",
   "metadata": {},
   "outputs": [
    {
     "name": "stdout",
     "output_type": "stream",
     "text": [
      "Top 3 Consuming Districts:\n",
      "   District  total_consumption\n",
      "5         6         170.836030\n",
      "6         7          44.809524\n",
      "3         4          39.731791\n",
      "Bottom 3 Consuming Districts:\n",
      "   District  total_consumption\n",
      "0         1          16.415476\n",
      "7         8          12.042063\n",
      "1         2          11.045491\n",
      "Region Consumption Summary:\n",
      "   Region  total_consumption\n",
      "0       1         289.689150\n",
      "1       2          79.251299\n"
     ]
    }
   ],
   "source": [
    "# Summarize consumption\n",
    "MANPRnew['total_consumption'] = MANPRnew[['ricepds_v', 'Wheatpds_q', 'chicken_q', 'pulsep_q', 'wheatos_q']].sum(axis=1)\n",
    "\n",
    "# Summarize and display top and bottom consuming districts and regions\n",
    "district_summary = MANPRnew.groupby('District')['total_consumption'].sum().reset_index().sort_values(by='total_consumption', ascending=False)\n",
    "region_summary = MANPRnew.groupby('Region')['total_consumption'].sum().reset_index().sort_values(by='total_consumption', ascending=False)\n",
    "\n",
    "print(\"Top 3 Consuming Districts:\")\n",
    "print(district_summary.head(3))\n",
    "print(\"Bottom 3 Consuming Districts:\")\n",
    "print(district_summary.tail(3))\n",
    "\n",
    "print(\"Region Consumption Summary:\")\n",
    "print(region_summary)"
   ]
  },
  {
   "cell_type": "code",
   "execution_count": 17,
   "id": "bd5abf16",
   "metadata": {},
   "outputs": [
    {
     "name": "stdout",
     "output_type": "stream",
     "text": [
      "      state_1     District  Region Sector  State_Region  Meals_At_Home  \\\n",
      "16453   MANPR      Chandel       2  URBAN           142           60.0   \n",
      "16454   MANPR      Chandel       2  URBAN           142           60.0   \n",
      "16455   MANPR      Chandel       2  URBAN           142           60.0   \n",
      "16456   MANPR      Chandel       2  URBAN           142           60.0   \n",
      "16457   MANPR      Chandel       2  URBAN           142           60.0   \n",
      "...       ...          ...     ...    ...           ...            ...   \n",
      "50798   MANPR  Imphal West       1  RURAL           141           60.0   \n",
      "50800   MANPR  Imphal West       1  RURAL           141           60.0   \n",
      "50801   MANPR  Imphal West       1  RURAL           141           60.0   \n",
      "50802   MANPR  Imphal West       1  RURAL           141           60.0   \n",
      "50804   MANPR  Imphal West       1  RURAL           141           60.0   \n",
      "\n",
      "       ricepds_v  Wheatpds_q  chicken_q  pulsep_q  wheatos_q  \\\n",
      "16453        0.0         0.0   0.250000  0.000000        0.0   \n",
      "16454        0.0         0.0   0.000000  0.000000        0.0   \n",
      "16455        0.0         0.0   0.250000  0.000000        0.0   \n",
      "16456        0.0         0.0   0.166667  0.000000        0.0   \n",
      "16457        0.0         0.0   0.166667  0.000000        0.0   \n",
      "...          ...         ...        ...       ...        ...   \n",
      "50798        0.0         0.0   0.166667  0.041667        0.0   \n",
      "50800        0.0         0.0   0.250000  0.062500        0.0   \n",
      "50801        0.0         0.0   0.000000  0.083333        0.0   \n",
      "50802        0.0         0.0   0.000000  0.200000        0.0   \n",
      "50804        0.0         0.0   0.333333  0.083333        0.0   \n",
      "\n",
      "       No_of_Meals_per_day  total_consumption  \n",
      "16453                  2.0           0.250000  \n",
      "16454                  2.0           0.000000  \n",
      "16455                  2.0           0.250000  \n",
      "16456                  2.0           0.166667  \n",
      "16457                  2.0           0.166667  \n",
      "...                    ...                ...  \n",
      "50798                  2.0           0.208333  \n",
      "50800                  2.0           0.312500  \n",
      "50801                  2.0           0.083333  \n",
      "50802                  2.0           0.200000  \n",
      "50804                  2.0           0.416667  \n",
      "\n",
      "[2312 rows x 13 columns]\n"
     ]
    }
   ],
   "source": [
    "# Rename districts and sectors\n",
    "district_mapping = {\"6\" : \"Imphal West\", \"7\" : \"Imphal East\", \"4\" : \"Bishnupur\", \"1\": \"Senapati\", \"2\": \"Tamenglong\", \"3\": \"Churachandpur\",\"5\": \"Thoubal\",\"8\":\"Ukhrul\", \"9\" : \"Chandel\"}\n",
    "sector_mapping = {\"2\": \"URBAN\", \"1\": \"RURAL\"}\n",
    "\n",
    "MANPRnew['District'] = MANPRnew['District'].astype(str).map(district_mapping).fillna(MANPRnew['District'])\n",
    "MANPRnew['Sector'] = MANPRnew['Sector'].astype(str).map(sector_mapping).fillna(MANPRnew['Sector'])\n",
    "print(MANPRnew)"
   ]
  },
  {
   "cell_type": "code",
   "execution_count": 18,
   "id": "cf8c739e",
   "metadata": {},
   "outputs": [
    {
     "name": "stdout",
     "output_type": "stream",
     "text": [
      "        District  total_consumption\n",
      "0      Bishnupur          39.731791\n",
      "1        Chandel          18.348485\n",
      "2  Churachandpur          21.399784\n",
      "3    Imphal East          44.809524\n",
      "4    Imphal West         170.836030\n",
      "5       Senapati          16.415476\n",
      "6     Tamenglong          11.045491\n",
      "7        Thoubal          34.311806\n",
      "8         Ukhrul          12.042063\n"
     ]
    }
   ],
   "source": [
    "# wb_consumption stores the aggregate of the consumption district-wise\n",
    "MANPR_consumption = MANPRnew.groupby('District')['total_consumption'].sum().reset_index()\n",
    "print(MANPR_consumption)"
   ]
  },
  {
   "cell_type": "code",
   "execution_count": 66,
   "id": "93fa578f",
   "metadata": {},
   "outputs": [
    {
     "data": {
      "image/png": "[encoded data removed]",
      "text/plain": [
       "<Figure size 640x480 with 1 Axes>"
      ]
     },
     "metadata": {},
     "output_type": "display_data"
    }
   ],
   "source": [
    "# Histogram to show the distribution of total consumption across different districts\n",
    "plt.hist(MANPRnew['total_consumption'], bins= 15, color='blue', edgecolor='black')\n",
    "plt.xlabel('Consumption')\n",
    "plt.ylabel('Frequency')\n",
    "plt.title('Consumption Distribution in Manipur State')\n",
    "plt.show()"
   ]
  },
  {
   "cell_type": "code",
   "execution_count": 25,
   "id": "ea4c2156",
   "metadata": {
    "scrolled": true
   },
   "outputs": [
    {
     "data": {
      "image/png": "[encoded data removed]",
      "text/plain": [
       "<Figure size 1500x1500 with 1 Axes>"
      ]
     },
     "metadata": {},
     "output_type": "display_data"
    }
   ],
   "source": [
    "# Barplot to visualize consumption per district with district names\n",
    "plt.figure(figsize=(15, 15))\n",
    "sns.barplot(x='total_consumption', y='District', data=MANPR_consumption, palette='Blues_d')\n",
    "plt.xlabel('Total Consumption')\n",
    "plt.ylabel('District')\n",
    "plt.title('Total Consumption per District')\n",
    "plt.show()"
   ]
  },
  {
   "cell_type": "code",
   "execution_count": 33,
   "id": "49cbfa8d",
   "metadata": {},
   "outputs": [],
   "source": [
    "# b) Plotting total consumption on the Karnataka state map\n",
    "\n",
    "# Filtering for Karnataka\n",
    "df_ka = data[data['state_1'] == \"KA\"]\n",
    "\n",
    "# Sub-setting the data\n",
    "ka_new = df_ka[['state_1', 'District', 'Region', 'Sector', 'State_Region', 'Meals_At_Home', 'ricepds_v', 'Wheatpds_q', 'chicken_q', 'pulsep_q', 'wheatos_q', 'No_of_Meals_per_day']]\n"
   ]
  },
  {
   "cell_type": "code",
   "execution_count": 34,
   "id": "53038f24",
   "metadata": {},
   "outputs": [
    {
     "name": "stdout",
     "output_type": "stream",
     "text": [
      "Missing Values in Subset:\n",
      "state_1                 0\n",
      "District                0\n",
      "Region                  0\n",
      "Sector                  0\n",
      "State_Region            0\n",
      "Meals_At_Home          59\n",
      "ricepds_v               0\n",
      "Wheatpds_q              0\n",
      "chicken_q               0\n",
      "pulsep_q                0\n",
      "wheatos_q               0\n",
      "No_of_Meals_per_day     0\n",
      "dtype: int64\n",
      "Missing Values After Imputation:\n",
      "state_1                0\n",
      "District               0\n",
      "Region                 0\n",
      "Sector                 0\n",
      "State_Region           0\n",
      "Meals_At_Home          0\n",
      "ricepds_v              0\n",
      "Wheatpds_q             0\n",
      "chicken_q              0\n",
      "pulsep_q               0\n",
      "wheatos_q              0\n",
      "No_of_Meals_per_day    0\n",
      "dtype: int64\n"
     ]
    },
    {
     "name": "stderr",
     "output_type": "stream",
     "text": [
      "C:\\Users\\jyoth\\AppData\\Local\\Temp\\ipykernel_6908\\4012509499.py:6: SettingWithCopyWarning: \n",
      "A value is trying to be set on a copy of a slice from a DataFrame\n",
      "\n",
      "See the caveats in the documentation: https://pandas.pydata.org/pandas-docs/stable/user_guide/indexing.html#returning-a-view-versus-a-copy\n",
      "  ka_new['Meals_At_Home'].fillna(ka_new['Meals_At_Home'].mean(), inplace=True)\n"
     ]
    }
   ],
   "source": [
    "# Check for missing values in the subset\n",
    "print(\"Missing Values in Subset:\")\n",
    "print(ka_new.isnull().sum())\n",
    "\n",
    "# Impute missing values with mean for specific columns\n",
    "ka_new['Meals_At_Home'].fillna(ka_new['Meals_At_Home'].mean(), inplace=True)\n",
    "\n",
    "# Check for missing values after imputation\n",
    "print(\"Missing Values After Imputation:\")\n",
    "print(ka_new.isnull().sum())"
   ]
  },
  {
   "cell_type": "code",
   "execution_count": 35,
   "id": "f54176e1",
   "metadata": {},
   "outputs": [],
   "source": [
    "# Remove outliers\n",
    "for col in outlier_columns:\n",
    "    ka_new = remove_outliers(ka_new, col)"
   ]
  },
  {
   "cell_type": "code",
   "execution_count": 77,
   "id": "3987bacb",
   "metadata": {},
   "outputs": [
    {
     "name": "stdout",
     "output_type": "stream",
     "text": [
      "District Consumption Summary:\n",
      "            District  total_consumption\n",
      "2          Bangalore        2281.357870\n",
      "3           Belagavi        2174.372053\n",
      "21            Mysuru        1479.373753\n",
      "25          Tumakuru        1441.823070\n",
      "16        Kalaburagi        1332.916755\n",
      "1            Ballari        1302.404203\n",
      "11        Davanagere        1214.228730\n",
      "27    Uttara Kannada        1198.843083\n",
      "28        Vijayapura        1074.834615\n",
      "24        Shivamogga        1059.634816\n",
      "20            Mandya        1053.904167\n",
      "14            Hassan        1015.792560\n",
      "8     Chikkamagaluru         992.455833\n",
      "0          Bagalkote         923.939246\n",
      "12           Dharwad         901.403968\n",
      "9        Chitradurga         827.296829\n",
      "15            Haveri         812.777516\n",
      "18             Kolar         792.061729\n",
      "7    Chikkaballapura         781.763333\n",
      "6    Chamarajanagara         777.135595\n",
      "23        Ramanagara         736.295310\n",
      "26             Udupi         709.974567\n",
      "5              Bidar         657.904545\n",
      "10  Dakshina Kannada         641.593523\n",
      "22           Raichur         641.353694\n",
      "19            Koppal         595.833730\n",
      "13             Gadag         468.564448\n",
      "4    Bengaluru Rural         465.970635\n",
      "17            Kodagu         440.578030\n"
     ]
    }
   ],
   "source": [
    "# Summarize consumption\n",
    "ka_new['total_consumption'] = ka_new[['ricepds_v', 'Wheatpds_q', 'chicken_q', 'pulsep_q', 'wheatos_q']].sum(axis=1)\n",
    "\n",
    "district_summary = ka_new.groupby('District')['total_consumption'].sum().reset_index().sort_values(by='total_consumption', ascending=False)\n",
    "print(\"District Consumption Summary:\")\n",
    "print(district_summary)\n"
   ]
  },
  {
   "cell_type": "code",
   "execution_count": 80,
   "id": "b382f669",
   "metadata": {},
   "outputs": [
    {
     "name": "stdout",
     "output_type": "stream",
     "text": [
      "      state_1    District  Region  Sector  State_Region  Meals_At_Home  \\\n",
      "23109      KA  Davanagere       4       2           294           54.0   \n",
      "23110      KA  Davanagere       4       2           294           30.0   \n",
      "23111      KA  Davanagere       4       2           294           60.0   \n",
      "23112      KA  Davanagere       4       2           294           60.0   \n",
      "23113      KA  Davanagere       4       2           294           58.0   \n",
      "...       ...         ...     ...     ...           ...            ...   \n",
      "64086      KA  Vijayapura       4       1           294           90.0   \n",
      "64087      KA  Vijayapura       4       1           294           90.0   \n",
      "64088      KA  Vijayapura       4       1           294           90.0   \n",
      "64089      KA  Vijayapura       4       1           294           90.0   \n",
      "64090      KA  Vijayapura       4       1           294           90.0   \n",
      "\n",
      "       ricepds_v  Wheatpds_q  chicken_q  pulsep_q  wheatos_q  \\\n",
      "23109       12.0    0.714286   0.071429  0.000000   0.000000   \n",
      "23110        0.0    0.000000   0.000000  0.000000   1.666667   \n",
      "23111       16.8    1.000000   0.600000  0.000000   0.000000   \n",
      "23112       12.0    1.666667   0.000000  0.000000   0.000000   \n",
      "23113        9.6    1.000000   0.300000  0.000000   0.000000   \n",
      "...          ...         ...        ...       ...        ...   \n",
      "64086        2.0    0.166667   0.000000  0.000000   1.666667   \n",
      "64087        0.0    0.000000   0.000000  0.250000   2.500000   \n",
      "64088        0.0    0.000000   0.166667  0.166667   1.666667   \n",
      "64089        6.0    0.250000   0.125000  0.000000   1.250000   \n",
      "64090       15.0    1.000000   0.250000  0.000000   1.500000   \n",
      "\n",
      "       No_of_Meals_per_day  total_consumption  \n",
      "23109                  2.0          12.785714  \n",
      "23110                  2.0           1.666667  \n",
      "23111                  2.0          18.400000  \n",
      "23112                  2.0          13.666667  \n",
      "23113                  2.0          10.900000  \n",
      "...                    ...                ...  \n",
      "64086                  3.0           3.833333  \n",
      "64087                  3.0           2.750000  \n",
      "64088                  3.0           2.000000  \n",
      "64089                  3.0           7.625000  \n",
      "64090                  3.0          17.750000  \n",
      "\n",
      "[3877 rows x 13 columns]\n"
     ]
    }
   ],
   "source": [
    "# Mapping districts so that merging of the tables will be easier\n",
    "district_mapping = {\n",
    "    \"1\": \"Belagavi\", \"2\": \"Bagalkote\", \"3\": \"Vijayapura\", \"4\": \"Kalaburagi\", \"5\": \"Bidar\",\n",
    "    \"6\": \"Raichur\", \"7\": \"Koppal\", \"8\": \"Gadag\", \"9\": \"Dharwad\", \"10\": \"Uttara Kannada\",\n",
    "    \"11\": \"Haveri\", \"12\": \"Ballari\", \"13\": \"Chitradurga\", \"14\": \"Davanagere\", \"15\": \"Shivamogga\",\n",
    "    \"16\": \"Udupi\", \"17\": \"Chikkamagaluru\", \"18\": \"Tumakuru\", \"19\": \"Kolar\", \"20\": \"Bangalore\",\n",
    "    \"21\": \"Bengaluru Rural\", \"22\": \"Mandya\", \"23\": \"Hassan\", \"24\": \"Dakshina Kannada\", \n",
    "    \"25\": \"Kodagu\", \"26\": \"Mysuru\", \"27\": \"Chamarajanagara\", \"28\": \"Ramanagara\", \"29\": \"Chikkaballapura\"\n",
    "}\n",
    "\n",
    "ka_new['District'] = ka_new['District'].astype(str).map(district_mapping).fillna(ka_new['District'])\n",
    "print(ka_new)"
   ]
  },
  {
   "cell_type": "code",
   "execution_count": 81,
   "id": "c5c1f674",
   "metadata": {},
   "outputs": [
    {
     "name": "stdout",
     "output_type": "stream",
     "text": [
      "            District  total_consumption\n",
      "0          Bagalkote         923.939246\n",
      "1            Ballari        1302.404203\n",
      "2          Bangalore        2281.357870\n",
      "3           Belagavi        2174.372053\n",
      "4    Bengaluru Rural         465.970635\n",
      "5              Bidar         657.904545\n",
      "6    Chamarajanagara         777.135595\n",
      "7    Chikkaballapura         781.763333\n",
      "8     Chikkamagaluru         992.455833\n",
      "9        Chitradurga         827.296829\n",
      "10  Dakshina Kannada         641.593523\n",
      "11        Davanagere        1214.228730\n",
      "12           Dharwad         901.403968\n",
      "13             Gadag         468.564448\n",
      "14            Hassan        1015.792560\n",
      "15            Haveri         812.777516\n",
      "16        Kalaburagi        1332.916755\n",
      "17            Kodagu         440.578030\n",
      "18             Kolar         792.061729\n",
      "19            Koppal         595.833730\n",
      "20            Mandya        1053.904167\n",
      "21            Mysuru        1479.373753\n",
      "22           Raichur         641.353694\n",
      "23        Ramanagara         736.295310\n",
      "24        Shivamogga        1059.634816\n",
      "25          Tumakuru        1441.823070\n",
      "26             Udupi         709.974567\n",
      "27    Uttara Kannada        1198.843083\n",
      "28        Vijayapura        1074.834615\n"
     ]
    }
   ],
   "source": [
    "# ka_consumption stores aggregate of total consumption district-wise\n",
    "ka_consumption = ka_new.groupby('District')['total_consumption'].sum().reset_index()\n",
    "print(ka_consumption)"
   ]
  },
  {
   "cell_type": "code",
   "execution_count": 58,
   "id": "b079bfea",
   "metadata": {},
   "outputs": [
    {
     "name": "stdout",
     "output_type": "stream",
     "text": [
      "            District     stname stcode11 dtcode11 year_stat  Shape_Length  \\\n",
      "0              Bidar  KARNATAKA       29      558    2011_c  5.763814e+05   \n",
      "1         Kalaburagi  KARNATAKA       29      579    2011_c  9.402528e+05   \n",
      "2           Belagavi  KARNATAKA       29      555    2011_c  1.141905e+06   \n",
      "3             Yadgir  KARNATAKA       29      580    2011_c  5.757503e+05   \n",
      "4          Bagalkote  KARNATAKA       29      556    2011_c  6.962757e+05   \n",
      "5            Raichur  KARNATAKA       29      559    2011_c  5.702024e+05   \n",
      "6             Koppal  KARNATAKA       29      560    2011_c  5.642314e+05   \n",
      "7              Gadag  KARNATAKA       29      561    2011_c  5.878944e+05   \n",
      "8            Ballari  KARNATAKA       29      565    2011_c  8.165962e+05   \n",
      "9            Dharwad  KARNATAKA       29      562    2011_c  4.889970e+05   \n",
      "10    Uttara Kannada  KARNATAKA       29      563    2011_c  8.070482e+05   \n",
      "11            Haveri  KARNATAKA       29      564    2011_c  4.879748e+05   \n",
      "12       Chitradurga  KARNATAKA       29      566    2011_c  7.016855e+05   \n",
      "13        Davanagere  KARNATAKA       29      567    2011_c  6.138904e+05   \n",
      "14        Shivamogga  KARNATAKA       29      568    2011_c  7.753217e+05   \n",
      "15             Udupi  KARNATAKA       29      569    2011_c  3.868110e+05   \n",
      "16    Chikkamagaluru  KARNATAKA       29      570    2011_c  6.109995e+05   \n",
      "17   Chikkaballapura  KARNATAKA       29      582    2011_c  5.107309e+05   \n",
      "18            Hassan  KARNATAKA       29      574    2011_c  6.735349e+05   \n",
      "19             Kolar  KARNATAKA       29      581    2011_c  5.152794e+05   \n",
      "20   Bengaluru Rural  KARNATAKA       29      583    2011_c  5.074017e+05   \n",
      "21  Dakshina Kannada  KARNATAKA       29      575    2011_c  5.009496e+05   \n",
      "22         Bangalore  KARNATAKA       29      572    2011_c  3.427051e+05   \n",
      "23            Kodagu  KARNATAKA       29      576    2011_c  4.795615e+05   \n",
      "24   Chamarajanagara  KARNATAKA       29      578    2011_c  6.049317e+05   \n",
      "25          Tumakuru  KARNATAKA       29      571    2011_c  1.117442e+06   \n",
      "26        Ramanagara  KARNATAKA       29      584    2011_c  4.768846e+05   \n",
      "27            Mandya  KARNATAKA       29      573    2011_c  5.615553e+05   \n",
      "28            Mysuru  KARNATAKA       29      577    2011_c  6.950178e+05   \n",
      "29        Vijayapura  KARNATAKA       29      557    2011_c  7.334079e+05   \n",
      "\n",
      "      Shape_Area  OBJECTID  test  Dist_LGD  State_LGD  \\\n",
      "0   6.048725e+09        49     0       529         29   \n",
      "1   1.207770e+10        52     1       538         29   \n",
      "2   1.462155e+10        56     0       527         29   \n",
      "3   5.776520e+09        57     0       635         29   \n",
      "4   7.147971e+09        58     0       524         29   \n",
      "5   9.197328e+09        62     0       546         29   \n",
      "6   6.036242e+09        65     0       543         29   \n",
      "7   5.041393e+09        66     1       537         29   \n",
      "8   9.132577e+09        68     0       528         29   \n",
      "9   4.607790e+09        69     0       536         29   \n",
      "10  1.105681e+10        70     0       550         29   \n",
      "11  5.187075e+09        72     0       540         29   \n",
      "12  9.027410e+09        75     0       533         29   \n",
      "13  6.351904e+09        76     0       535         29   \n",
      "14  9.061861e+09        77     0       547         29   \n",
      "15  3.806295e+09        78     0       549         29   \n",
      "16  7.660951e+09        79     0       532         29   \n",
      "17  4.517226e+09        80     0       630         29   \n",
      "18  7.219958e+09        81     0       539         29   \n",
      "19  4.220912e+09        82     0       542         29   \n",
      "20  2.439791e+09        84     0       526         29   \n",
      "21  5.149143e+09        85     0       534         29   \n",
      "22  2.326321e+09        86     0       525         29   \n",
      "23  4.331947e+09        91     0       541         29   \n",
      "24  5.936966e+09        95     0       531         29   \n",
      "25  1.127874e+10       176     0       548         29   \n",
      "26  3.713268e+09       179     0       631         29   \n",
      "27  5.242737e+09       180     0       544         29   \n",
      "28  6.643500e+09       181     0       545         29   \n",
      "29  1.151560e+10       701     0       530         29   \n",
      "\n",
      "                                             geometry  \n",
      "0   POLYGON ((77.32647 18.45884, 77.32505 18.4588,...  \n",
      "1   POLYGON ((76.61447 17.77067, 76.61369 17.77085...  \n",
      "2   POLYGON ((74.9902 16.95226, 74.98937 16.95225,...  \n",
      "3   POLYGON ((77.06501 16.954, 77.0639 16.954, 77....  \n",
      "4   POLYGON ((75.42069 16.76789, 75.41989 16.76814...  \n",
      "5   POLYGON ((76.98825 16.56165, 76.98526 16.56206...  \n",
      "6   POLYGON ((76.05802 16.01161, 76.05668 16.01184...  \n",
      "7   POLYGON ((75.45154 15.88647, 75.45017 15.88654...  \n",
      "8   POLYGON ((77.02527 15.83749, 77.02522 15.83753...  \n",
      "9   POLYGON ((75.05983 15.68211, 75.04981 15.68249...  \n",
      "10  POLYGON ((74.29205 15.52494, 74.29178 15.52499...  \n",
      "11  POLYGON ((75.14082 15.16043, 75.14103 15.16145...  \n",
      "12  POLYGON ((76.71774 15.03594, 76.71729 15.03603...  \n",
      "13  POLYGON ((76.04526 14.93064, 76.04479 14.93197...  \n",
      "14  POLYGON ((75.07273 14.65523, 75.07263 14.65525...  \n",
      "15  POLYGON ((74.6653 13.98123, 74.66522 13.9822, ...  \n",
      "16  POLYGON ((76.04315 13.89938, 76.04215 13.89939...  \n",
      "17  POLYGON ((77.97049 13.96018, 77.96813 13.96023...  \n",
      "18  POLYGON ((76.37235 13.5456, 76.37018 13.54799,...  \n",
      "19  POLYGON ((78.23786 13.59922, 78.23603 13.59931...  \n",
      "20  POLYGON ((77.38565 13.49861, 77.38466 13.49911...  \n",
      "21  POLYGON ((75.35305 13.18492, 75.35201 13.18522...  \n",
      "22  POLYGON ((77.54547 13.2323, 77.54319 13.23289,...  \n",
      "23  POLYGON ((75.88024 12.83429, 75.88024 12.83429...  \n",
      "24  POLYGON ((77.26794 12.31412, 77.26667 12.31419...  \n",
      "25  MULTIPOLYGON (((77.08045 13.07033, 77.08056 13...  \n",
      "26  POLYGON ((77.16652 13.19702, 77.16652 13.19702...  \n",
      "27  MULTIPOLYGON (((76.98265 12.2556, 76.98293 12....  \n",
      "28  POLYGON ((76.34257 12.65546, 76.34198 12.65574...  \n",
      "29  POLYGON ((75.66009 17.45769, 75.65891 17.45806...  \n"
     ]
    }
   ],
   "source": [
    "# Load and plot Karnataka state map\n",
    "data_map = gpd.read_file('D:\\\\Assignments_SCMA632\\\\KARNATAKA_DISTRICTS.geojson')\n",
    "\n",
    "data_map = data_map.rename(columns={'dtname': 'District'})\n",
    "print(data_map)"
   ]
  },
  {
   "cell_type": "code",
   "execution_count": 21,
   "id": "645ab1c6",
   "metadata": {},
   "outputs": [
    {
     "name": "stdout",
     "output_type": "stream",
     "text": [
      "            District     stname stcode11 dtcode11 year_stat  Shape_Length  \\\n",
      "0              Bidar  KARNATAKA       29      558    2011_c  5.763814e+05   \n",
      "1         Kalaburagi  KARNATAKA       29      579    2011_c  9.402528e+05   \n",
      "2           Belagavi  KARNATAKA       29      555    2011_c  1.141905e+06   \n",
      "3          Bagalkote  KARNATAKA       29      556    2011_c  6.962757e+05   \n",
      "4            Raichur  KARNATAKA       29      559    2011_c  5.702024e+05   \n",
      "5             Koppal  KARNATAKA       29      560    2011_c  5.642314e+05   \n",
      "6              Gadag  KARNATAKA       29      561    2011_c  5.878944e+05   \n",
      "7            Ballari  KARNATAKA       29      565    2011_c  8.165962e+05   \n",
      "8            Dharwad  KARNATAKA       29      562    2011_c  4.889970e+05   \n",
      "9     Uttara Kannada  KARNATAKA       29      563    2011_c  8.070482e+05   \n",
      "10            Haveri  KARNATAKA       29      564    2011_c  4.879748e+05   \n",
      "11       Chitradurga  KARNATAKA       29      566    2011_c  7.016855e+05   \n",
      "12        Davanagere  KARNATAKA       29      567    2011_c  6.138904e+05   \n",
      "13        Shivamogga  KARNATAKA       29      568    2011_c  7.753217e+05   \n",
      "14             Udupi  KARNATAKA       29      569    2011_c  3.868110e+05   \n",
      "15    Chikkamagaluru  KARNATAKA       29      570    2011_c  6.109995e+05   \n",
      "16   Chikkaballapura  KARNATAKA       29      582    2011_c  5.107309e+05   \n",
      "17            Hassan  KARNATAKA       29      574    2011_c  6.735349e+05   \n",
      "18             Kolar  KARNATAKA       29      581    2011_c  5.152794e+05   \n",
      "19   Bengaluru Rural  KARNATAKA       29      583    2011_c  5.074017e+05   \n",
      "20  Dakshina Kannada  KARNATAKA       29      575    2011_c  5.009496e+05   \n",
      "21         Bangalore  KARNATAKA       29      572    2011_c  3.427051e+05   \n",
      "22            Kodagu  KARNATAKA       29      576    2011_c  4.795615e+05   \n",
      "23   Chamarajanagara  KARNATAKA       29      578    2011_c  6.049317e+05   \n",
      "24          Tumakuru  KARNATAKA       29      571    2011_c  1.117442e+06   \n",
      "25        Ramanagara  KARNATAKA       29      584    2011_c  4.768846e+05   \n",
      "26            Mandya  KARNATAKA       29      573    2011_c  5.615553e+05   \n",
      "27            Mysuru  KARNATAKA       29      577    2011_c  6.950178e+05   \n",
      "28        Vijayapura  KARNATAKA       29      557    2011_c  7.334079e+05   \n",
      "\n",
      "      Shape_Area  OBJECTID  test  Dist_LGD  State_LGD  \\\n",
      "0   6.048725e+09        49     0       529         29   \n",
      "1   1.207770e+10        52     1       538         29   \n",
      "2   1.462155e+10        56     0       527         29   \n",
      "3   7.147971e+09        58     0       524         29   \n",
      "4   9.197328e+09        62     0       546         29   \n",
      "5   6.036242e+09        65     0       543         29   \n",
      "6   5.041393e+09        66     1       537         29   \n",
      "7   9.132577e+09        68     0       528         29   \n",
      "8   4.607790e+09        69     0       536         29   \n",
      "9   1.105681e+10        70     0       550         29   \n",
      "10  5.187075e+09        72     0       540         29   \n",
      "11  9.027410e+09        75     0       533         29   \n",
      "12  6.351904e+09        76     0       535         29   \n",
      "13  9.061861e+09        77     0       547         29   \n",
      "14  3.806295e+09        78     0       549         29   \n",
      "15  7.660951e+09        79     0       532         29   \n",
      "16  4.517226e+09        80     0       630         29   \n",
      "17  7.219958e+09        81     0       539         29   \n",
      "18  4.220912e+09        82     0       542         29   \n",
      "19  2.439791e+09        84     0       526         29   \n",
      "20  5.149143e+09        85     0       534         29   \n",
      "21  2.326321e+09        86     0       525         29   \n",
      "22  4.331947e+09        91     0       541         29   \n",
      "23  5.936966e+09        95     0       531         29   \n",
      "24  1.127874e+10       176     0       548         29   \n",
      "25  3.713268e+09       179     0       631         29   \n",
      "26  5.242737e+09       180     0       544         29   \n",
      "27  6.643500e+09       181     0       545         29   \n",
      "28  1.151560e+10       701     0       530         29   \n",
      "\n",
      "                                             geometry  total_consumption  \n",
      "0   POLYGON ((77.32647 18.45884, 77.32505 18.4588,...         657.904545  \n",
      "1   POLYGON ((76.61447 17.77067, 76.61369 17.77085...        1332.916755  \n",
      "2   POLYGON ((74.9902 16.95226, 74.98937 16.95225,...        2174.372053  \n",
      "3   POLYGON ((75.42069 16.76789, 75.41989 16.76814...         923.939246  \n",
      "4   POLYGON ((76.98825 16.56165, 76.98526 16.56206...         641.353694  \n",
      "5   POLYGON ((76.05802 16.01161, 76.05668 16.01184...         595.833730  \n",
      "6   POLYGON ((75.45154 15.88647, 75.45017 15.88654...         468.564448  \n",
      "7   POLYGON ((77.02527 15.83749, 77.02522 15.83753...        1302.404203  \n",
      "8   POLYGON ((75.05983 15.68211, 75.04981 15.68249...         901.403968  \n",
      "9   POLYGON ((74.29205 15.52494, 74.29178 15.52499...        1198.843083  \n",
      "10  POLYGON ((75.14082 15.16043, 75.14103 15.16145...         812.777516  \n",
      "11  POLYGON ((76.71774 15.03594, 76.71729 15.03603...         827.296829  \n",
      "12  POLYGON ((76.04526 14.93064, 76.04479 14.93197...        1214.228730  \n",
      "13  POLYGON ((75.07273 14.65523, 75.07263 14.65525...        1059.634816  \n",
      "14  POLYGON ((74.6653 13.98123, 74.66522 13.9822, ...         709.974567  \n",
      "15  POLYGON ((76.04315 13.89938, 76.04215 13.89939...         992.455833  \n",
      "16  POLYGON ((77.97049 13.96018, 77.96813 13.96023...         781.763333  \n",
      "17  POLYGON ((76.37235 13.5456, 76.37018 13.54799,...        1015.792560  \n",
      "18  POLYGON ((78.23786 13.59922, 78.23603 13.59931...         792.061729  \n",
      "19  POLYGON ((77.38565 13.49861, 77.38466 13.49911...         465.970635  \n",
      "20  POLYGON ((75.35305 13.18492, 75.35201 13.18522...         641.593523  \n",
      "21  POLYGON ((77.54547 13.2323, 77.54319 13.23289,...        2281.357870  \n",
      "22  POLYGON ((75.88024 12.83429, 75.88024 12.83429...         440.578030  \n",
      "23  POLYGON ((77.26794 12.31412, 77.26667 12.31419...         777.135595  \n",
      "24  MULTIPOLYGON (((77.08045 13.07033, 77.08056 13...        1441.823070  \n",
      "25  POLYGON ((77.16652 13.19702, 77.16652 13.19702...         736.295310  \n",
      "26  MULTIPOLYGON (((76.98265 12.2556, 76.98293 12....        1053.904167  \n",
      "27  POLYGON ((76.34257 12.65546, 76.34198 12.65574...        1479.373753  \n",
      "28  POLYGON ((75.66009 17.45769, 75.65891 17.45806...        1074.834615  \n"
     ]
    }
   ],
   "source": [
    "# Merging ka_consumption and data_map tables\n",
    "data_map_data = data_map.merge(ka_consumption, on='District')\n",
    "print(data_map_data)"
   ]
  },
  {
   "cell_type": "code",
   "execution_count": 87,
   "id": "059c54e8-1c31-466e-8e7d-5f75e39d9cbc",
   "metadata": {},
   "outputs": [],
   "source": [
    "import geopandas as gpd\n",
    "import matplotlib.pyplot as plt"
   ]
  },
  {
   "cell_type": "code",
   "execution_count": 88,
   "id": "461cea8f",
   "metadata": {},
   "outputs": [
    {
     "ename": "NameError",
     "evalue": "name 'data_map_data' is not defined",
     "output_type": "error",
     "traceback": [
      "\u001b[1;31m---------------------------------------------------------------------------\u001b[0m",
      "\u001b[1;31mNameError\u001b[0m                                 Traceback (most recent call last)",
      "Cell \u001b[1;32mIn[88], line 3\u001b[0m\n\u001b[0;32m      1\u001b[0m \u001b[38;5;66;03m# Plot with labeled district names\u001b[39;00m\n\u001b[0;32m      2\u001b[0m fig, ax \u001b[38;5;241m=\u001b[39m plt\u001b[38;5;241m.\u001b[39msubplots(\u001b[38;5;241m1\u001b[39m, \u001b[38;5;241m1\u001b[39m, figsize\u001b[38;5;241m=\u001b[39m(\u001b[38;5;241m12\u001b[39m, \u001b[38;5;241m8\u001b[39m))\n\u001b[1;32m----> 3\u001b[0m data_map_data\u001b[38;5;241m.\u001b[39mplot(column\u001b[38;5;241m=\u001b[39m\u001b[38;5;124m'\u001b[39m\u001b[38;5;124mtotal_consumption\u001b[39m\u001b[38;5;124m'\u001b[39m, cmap\u001b[38;5;241m=\u001b[39m\u001b[38;5;124m'\u001b[39m\u001b[38;5;124mOrRd\u001b[39m\u001b[38;5;124m'\u001b[39m, legend\u001b[38;5;241m=\u001b[39m\u001b[38;5;28;01mTrue\u001b[39;00m, ax\u001b[38;5;241m=\u001b[39max, legend_kwds\u001b[38;5;241m=\u001b[39m{\u001b[38;5;124m'\u001b[39m\u001b[38;5;124mlabel\u001b[39m\u001b[38;5;124m'\u001b[39m: \u001b[38;5;124m\"\u001b[39m\u001b[38;5;124mTotal Consumption by District\u001b[39m\u001b[38;5;124m\"\u001b[39m})\n\u001b[0;32m      4\u001b[0m data_map_data\u001b[38;5;241m.\u001b[39mapply(\u001b[38;5;28;01mlambda\u001b[39;00m x: ax\u001b[38;5;241m.\u001b[39mannotate(text\u001b[38;5;241m=\u001b[39mx[\u001b[38;5;124m'\u001b[39m\u001b[38;5;124mDistrict\u001b[39m\u001b[38;5;124m'\u001b[39m], xy\u001b[38;5;241m=\u001b[39mx\u001b[38;5;241m.\u001b[39mgeometry\u001b[38;5;241m.\u001b[39mcentroid\u001b[38;5;241m.\u001b[39mcoords[\u001b[38;5;241m0\u001b[39m], ha\u001b[38;5;241m=\u001b[39m\u001b[38;5;124m'\u001b[39m\u001b[38;5;124mcenter\u001b[39m\u001b[38;5;124m'\u001b[39m, fontsize\u001b[38;5;241m=\u001b[39m\u001b[38;5;241m8\u001b[39m, color\u001b[38;5;241m=\u001b[39m\u001b[38;5;124m'\u001b[39m\u001b[38;5;124mblack\u001b[39m\u001b[38;5;124m'\u001b[39m), axis\u001b[38;5;241m=\u001b[39m\u001b[38;5;241m1\u001b[39m)\n\u001b[0;32m      5\u001b[0m plt\u001b[38;5;241m.\u001b[39mtitle(\u001b[38;5;124m'\u001b[39m\u001b[38;5;124mTotal Consumption by District\u001b[39m\u001b[38;5;124m'\u001b[39m)\n",
      "\u001b[1;31mNameError\u001b[0m: name 'data_map_data' is not defined"
     ]
    },
    {
     "data": {
      "image/png": "[encoded data removed]",
      "text/plain": [
       "<Figure size 1200x800 with 1 Axes>"
      ]
     },
     "metadata": {},
     "output_type": "display_data"
    }
   ],
   "source": [
    "# Plot with labeled district names\n",
    "fig, ax = plt.subplots(1, 1, figsize=(12, 8))\n",
    "data_map_data.plot(column='total_consumption', cmap='OrRd', legend=True, ax=ax, legend_kwds={'label': \"Total Consumption by District\"})\n",
    "data_map_data.apply(lambda x: ax.annotate(text=x['District'], xy=x.geometry.centroid.coords[0], ha='center', fontsize=8, color='black'), axis=1)\n",
    "plt.title('Total Consumption by District')\n",
    "plt.show()"
   ]
  },
  {
   "cell_type": "code",
   "execution_count": null,
   "id": "ab86dfe6-14ff-4f90-9483-5c85a9648d19",
   "metadata": {},
   "outputs": [],
   "source": []
  }
 ],
 "metadata": {
  "kernelspec": {
   "display_name": "Python 3 (ipykernel)",
   "language": "python",
   "name": "python3"
  },
  "language_info": {
   "codemirror_mode": {
    "name": "ipython",
    "version": 3
   },
   "file_extension": ".py",
   "mimetype": "text/x-python",
   "name": "python",
   "nbconvert_exporter": "python",
   "pygments_lexer": "ipython3",
   "version": "3.11.7"
  }
 },
 "nbformat": 4,
 "nbformat_minor": 5
}
